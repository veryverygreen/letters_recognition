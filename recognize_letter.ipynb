{
 "cells": [
  {
   "cell_type": "code",
   "execution_count": 37,
   "id": "cfca66e7",
   "metadata": {},
   "outputs": [],
   "source": [
    "import pandas as pd\n",
    "import numpy as np\n",
    "import tensorflow as tf\n",
    "from tensorflow.keras import layers, models\n",
    "from PIL import Image\n",
    "from sklearn.model_selection import train_test_split\n",
    "\n",
    "image_folder = 'path_to_images'\n",
    "csv_path = 'path_to_csv'\n",
    "data = pd.read_csv(csv_path)\n",
    "\n",
    "X_train_list = []\n",
    "y_train_list = []"
   ]
  },
  {
   "cell_type": "code",
   "execution_count": 38,
   "id": "d9fa5296",
   "metadata": {},
   "outputs": [],
   "source": [
    "desired_width, desired_height = 32, 32\n",
    "\n",
    "# Проход по CSV и загрузка изображений\n",
    "for index, row in data.iterrows():\n",
    "    image_path = image_folder + row['file']\n",
    "    try:\n",
    "        image = Image.open(image_path).convert('RGB').resize((desired_width, desired_height))\n",
    "        image_array = np.array(image)\n",
    "        X_train_list.append(image_array)\n",
    "        y_train_list.append(row['label'])\n",
    "    except Exception as e:\n",
    "        print(f\"Ошибка при обработке изображения {image_path}: {e}\")"
   ]
  },
  {
   "cell_type": "code",
   "execution_count": 40,
   "id": "20e24361",
   "metadata": {},
   "outputs": [],
   "source": [
    "X_train = np.array(X_train_list)\n",
    "y_train = np.array(y_train_list)\n",
    "\n",
    "label_encoder = LabelEncoder()\n",
    "y_train = label_encoder.fit_transform(y_train_list)\n",
    "\n",
    "# Нормализация\n",
    "X_train = X_train.astype('float32') / 255.0\n",
    "\n",
    "# Разделение данных\n",
    "X_train, X_val, y_train, y_val = train_test_split(X_train, y_train, test_size=0.2, random_state=42)"
   ]
  },
  {
   "cell_type": "code",
   "execution_count": 41,
   "id": "962feb0e",
   "metadata": {},
   "outputs": [
    {
     "name": "stdout",
     "output_type": "stream",
     "text": [
      "Model: \"sequential\"\n",
      "_________________________________________________________________\n",
      " Layer (type)                Output Shape              Param #   \n",
      "=================================================================\n",
      " conv2d (Conv2D)             (None, 30, 30, 32)        896       \n",
      "                                                                 \n",
      " max_pooling2d (MaxPooling2D  (None, 15, 15, 32)       0         \n",
      " )                                                               \n",
      "                                                                 \n",
      " conv2d_1 (Conv2D)           (None, 13, 13, 64)        18496     \n",
      "                                                                 \n",
      " max_pooling2d_1 (MaxPooling  (None, 6, 6, 64)         0         \n",
      " 2D)                                                             \n",
      "                                                                 \n",
      " flatten (Flatten)           (None, 2304)              0         \n",
      "                                                                 \n",
      " dense (Dense)               (None, 128)               295040    \n",
      "                                                                 \n",
      " dense_1 (Dense)             (None, 33)                4257      \n",
      "                                                                 \n",
      "=================================================================\n",
      "Total params: 318,689\n",
      "Trainable params: 318,689\n",
      "Non-trainable params: 0\n",
      "_________________________________________________________________\n"
     ]
    }
   ],
   "source": [
    "model = models.Sequential([\n",
    "    layers.Conv2D(32, (3, 3), activation='relu', input_shape=(desired_width, desired_height, 3)),\n",
    "    layers.MaxPooling2D((2, 2)),\n",
    "    layers.Conv2D(64, (3, 3), activation='relu'),\n",
    "    layers.MaxPooling2D((2, 2)),\n",
    "    layers.Flatten(),\n",
    "    layers.Dense(128, activation='relu'),\n",
    "    layers.Dense(len(label_encoder.classes_), activation='softmax')\n",
    "])\n",
    "\n",
    "model.compile(optimizer='adam',\n",
    "              loss='sparse_categorical_crossentropy',\n",
    "              metrics=['accuracy'])\n",
    "\n",
    "model.summary()"
   ]
  },
  {
   "cell_type": "code",
   "execution_count": 48,
   "id": "e607f402",
   "metadata": {},
   "outputs": [
    {
     "name": "stdout",
     "output_type": "stream",
     "text": [
      "Epoch 1/12\n",
      "355/355 [==============================] - 6s 17ms/step - loss: 0.4207 - accuracy: 0.8765 - val_loss: 0.7331 - val_accuracy: 0.7967\n",
      "Epoch 2/12\n",
      "355/355 [==============================] - 6s 16ms/step - loss: 0.3630 - accuracy: 0.8911 - val_loss: 0.7722 - val_accuracy: 0.7854\n",
      "Epoch 3/12\n",
      "355/355 [==============================] - 6s 16ms/step - loss: 0.3310 - accuracy: 0.9003 - val_loss: 0.7728 - val_accuracy: 0.7822\n",
      "Epoch 4/12\n",
      "355/355 [==============================] - 6s 16ms/step - loss: 0.2888 - accuracy: 0.9156 - val_loss: 0.7364 - val_accuracy: 0.8055\n",
      "Epoch 5/12\n",
      "355/355 [==============================] - 6s 17ms/step - loss: 0.2586 - accuracy: 0.9218 - val_loss: 0.7461 - val_accuracy: 0.8069\n",
      "Epoch 6/12\n",
      "355/355 [==============================] - 6s 17ms/step - loss: 0.2282 - accuracy: 0.9313 - val_loss: 0.7819 - val_accuracy: 0.8013\n",
      "Epoch 7/12\n",
      "355/355 [==============================] - 6s 17ms/step - loss: 0.2030 - accuracy: 0.9407 - val_loss: 0.8132 - val_accuracy: 0.8013\n",
      "Epoch 8/12\n",
      "355/355 [==============================] - 6s 17ms/step - loss: 0.1769 - accuracy: 0.9472 - val_loss: 0.8362 - val_accuracy: 0.7921\n",
      "Epoch 9/12\n",
      "355/355 [==============================] - 7s 20ms/step - loss: 0.1534 - accuracy: 0.9544 - val_loss: 0.7879 - val_accuracy: 0.8122\n",
      "Epoch 10/12\n",
      "355/355 [==============================] - 6s 18ms/step - loss: 0.1477 - accuracy: 0.9567 - val_loss: 0.8094 - val_accuracy: 0.8016\n",
      "Epoch 11/12\n",
      "355/355 [==============================] - 7s 19ms/step - loss: 0.1238 - accuracy: 0.9642 - val_loss: 0.7985 - val_accuracy: 0.8199\n",
      "Epoch 12/12\n",
      "355/355 [==============================] - 7s 19ms/step - loss: 0.1083 - accuracy: 0.9697 - val_loss: 0.8476 - val_accuracy: 0.8083\n"
     ]
    }
   ],
   "source": [
    "history = model.fit(X_train, y_train, epochs=12, batch_size=32, validation_data=(X_val, y_val))"
   ]
  },
  {
   "cell_type": "code",
   "execution_count": 53,
   "id": "daaa784d",
   "metadata": {},
   "outputs": [
    {
     "name": "stdout",
     "output_type": "stream",
     "text": [
      "89/89 [==============================] - 1s 8ms/step - loss: 0.8476 - accuracy: 0.8083\n",
      "Точность модели на валидационном наборе данных: 0.8083156943321228\n"
     ]
    }
   ],
   "source": [
    "model.save('russian_letter_recognition_model.h5')\n",
    "\n",
    "np.save('label_encoder.npy', label_encoder.classes_)"
   ]
  },
  {
   "cell_type": "code",
   "execution_count": 68,
   "id": "ae3a4061",
   "metadata": {},
   "outputs": [
    {
     "name": "stdout",
     "output_type": "stream",
     "text": [
      "1/1 [==============================] - 0s 57ms/step\n",
      "Распознанная буква: О\n"
     ]
    }
   ],
   "source": [
    "model = tf.keras.models.load_model('russian_letter_recognition_model.h5')\n",
    "\n",
    "label_encoder = LabelEncoder()\n",
    "label_encoder.classes_ = np.load('label_encoder.npy')\n",
    "\n",
    "# Словарь\n",
    "letter_mapping = {\n",
    "    0: 'А', 1: 'Б', 2: 'В', 3: 'Г', 4: 'Д', 5: 'Е', 6: 'Ё', 7: 'Ж', 8: 'З', 9: 'И', 10: 'Й',\n",
    "    11: 'К', 12: 'Л', 13: 'М', 14: 'Н', 15: 'О', 16: 'П', 17: 'Р', 18: 'С', 19: 'Т', 20: 'У',\n",
    "    21: 'Ф', 22: 'Х', 23: 'Ц', 24: 'Ч', 25: 'Ш', 26: 'Щ', 27: 'Ъ', 28: 'Ы', 29: 'Б', 30: 'Э',\n",
    "    31: 'Ю', 32: 'Я',   \n",
    "}\n",
    "\n",
    "def recognize_letter(image_path):\n",
    "    desired_width, desired_height = 32, 32\n",
    "    image = Image.open(image_path).convert('RGB').resize((desired_width, desired_height))\n",
    "    image_array = np.array(image)\n",
    "    image_array = image_array.astype('float32') / 255.0\n",
    "    image_array = np.expand_dims(image_array, axis=0)\n",
    "\n",
    "    prediction = model.predict(image_array)\n",
    "\n",
    "    predicted_label = label_encoder.inverse_transform([np.argmax(prediction)])[0]\n",
    "    \n",
    "    return predicted_label\n",
    "\n",
    "image_path_to_recognize = 'path_to_test_jpeg'\n",
    "recognized_letter = recognize_letter(image_path_to_recognize)\n",
    "print(f\"Распознанная буква: {letter_mapping[recognized_letter-1]}\")"
   ]
  },
  {
   "cell_type": "code",
   "execution_count": null,
   "id": "4ac39863",
   "metadata": {},
   "outputs": [],
   "source": []
  }
 ],
 "metadata": {
  "kernelspec": {
   "display_name": "Python 3 (ipykernel)",
   "language": "python",
   "name": "python3"
  },
  "language_info": {
   "codemirror_mode": {
    "name": "ipython",
    "version": 3
   },
   "file_extension": ".py",
   "mimetype": "text/x-python",
   "name": "python",
   "nbconvert_exporter": "python",
   "pygments_lexer": "ipython3",
   "version": "3.7.4"
  }
 },
 "nbformat": 4,
 "nbformat_minor": 5
}
